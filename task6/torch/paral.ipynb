{
 "cells": [
  {
   "cell_type": "code",
   "execution_count": 1,
   "metadata": {},
   "outputs": [],
   "source": [
    "import torch\n",
    "import torch.nn as nn"
   ]
  },
  {
   "cell_type": "code",
   "execution_count": 2,
   "metadata": {},
   "outputs": [],
   "source": [
    "torch.manual_seed(0)\n",
    "import numpy as np\n",
    "np.random.seed(0)\n",
    "import random\n",
    "random.seed(0)"
   ]
  },
  {
   "cell_type": "code",
   "execution_count": 3,
   "metadata": {},
   "outputs": [],
   "source": [
    "class Net(nn.Module):\n",
    "\n",
    "    def __init__(self):\n",
    "\n",
    "         super(Net, self).__init__()\n",
    "\n",
    "         self.fc1 = nn.Linear(32**2, 16**2) # входной слой\n",
    "\n",
    "         self.fc2 = nn.Linear(16**2, 4**2) # скрытый слой\n",
    "\n",
    "         self.fc3 = nn.Linear(4 ** 2,1) # скрытый слой\n",
    "\n",
    "# прямое распространение информации\n",
    "\n",
    "    def forward(self, x):\n",
    "\n",
    "        sigmoid = nn.Sigmoid()\n",
    "\n",
    "        x = sigmoid(self.fc1(x))\n",
    "\n",
    "        x = sigmoid(self.fc2(x))\n",
    "\n",
    "        x = sigmoid(self.fc3(x))\n",
    "\n",
    "        return x"
   ]
  },
  {
   "cell_type": "code",
   "execution_count": 4,
   "metadata": {},
   "outputs": [
    {
     "name": "stdout",
     "output_type": "stream",
     "text": [
      "tensor([0.4318], grad_fn=<SigmoidBackward0>)\n"
     ]
    }
   ],
   "source": [
    "input_layer = torch.rand(1024)\n",
    "net = Net()\n",
    "result = net(input_layer)\n",
    "print(result)"
   ]
  },
  {
   "cell_type": "code",
   "execution_count": 5,
   "metadata": {},
   "outputs": [
    {
     "name": "stdout",
     "output_type": "stream",
     "text": [
      "fc1 Linear(in_features=1024, out_features=256, bias=True)\n",
      "fc2 Linear(in_features=256, out_features=16, bias=True)\n",
      "fc3 Linear(in_features=16, out_features=1, bias=True)\n"
     ]
    }
   ],
   "source": [
    "def write_b(file_name, arr):\n",
    "    with open(file_name, \"wb\") as f:\n",
    "        for val in arr:\n",
    "            f.write((str(val) + '\\n').encode())\n",
    "\n",
    "write_b(\"input\", input_layer.numpy())\n",
    "\n",
    "for module_name, module in net._modules.items():\n",
    "    if isinstance(module, nn.Linear):\n",
    "        print(module_name, module)\n",
    "        write_b(f\"{module_name}_weights\", module.weight.detach().numpy().flatten())\n",
    "        write_b(f\"{module_name}_bias\", module.bias.detach().numpy().flatten())"
   ]
  }
 ],
 "metadata": {
  "kernelspec": {
   "display_name": "AIenv",
   "language": "python",
   "name": "python3"
  },
  "language_info": {
   "codemirror_mode": {
    "name": "ipython",
    "version": 3
   },
   "file_extension": ".py",
   "mimetype": "text/x-python",
   "name": "python",
   "nbconvert_exporter": "python",
   "pygments_lexer": "ipython3",
   "version": "3.10.10"
  },
  "orig_nbformat": 4
 },
 "nbformat": 4,
 "nbformat_minor": 2
}
